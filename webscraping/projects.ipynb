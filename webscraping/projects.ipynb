{
 "cells": [
  {
   "cell_type": "code",
   "execution_count": 1,
   "metadata": {},
   "outputs": [],
   "source": [
    "import numpy as np\n",
    "import pandas as pd\n",
    "import matplotlib.pyplot as plt"
   ]
  },
  {
   "cell_type": "code",
   "execution_count": 18,
   "metadata": {},
   "outputs": [
    {
     "data": {
      "text/html": [
       "<div>\n",
       "<style scoped>\n",
       "    .dataframe tbody tr th:only-of-type {\n",
       "        vertical-align: middle;\n",
       "    }\n",
       "\n",
       "    .dataframe tbody tr th {\n",
       "        vertical-align: top;\n",
       "    }\n",
       "\n",
       "    .dataframe thead th {\n",
       "        text-align: right;\n",
       "    }\n",
       "</style>\n",
       "<table border=\"1\" class=\"dataframe\">\n",
       "  <thead>\n",
       "    <tr style=\"text-align: right;\">\n",
       "      <th></th>\n",
       "      <th>EmployeeName</th>\n",
       "      <th>YearsExperience</th>\n",
       "      <th>JobTitle</th>\n",
       "      <th>Salary</th>\n",
       "    </tr>\n",
       "  </thead>\n",
       "  <tbody>\n",
       "    <tr>\n",
       "      <td>25</td>\n",
       "      <td>GREGORY SUHR</td>\n",
       "      <td>9.0</td>\n",
       "      <td>CHIEF OF POLICE</td>\n",
       "      <td>105582</td>\n",
       "    </tr>\n",
       "    <tr>\n",
       "      <td>26</td>\n",
       "      <td>JOHN HANLEY</td>\n",
       "      <td>9.5</td>\n",
       "      <td>CAPTAIN, FIRE SUPPRESSION</td>\n",
       "      <td>116969</td>\n",
       "    </tr>\n",
       "    <tr>\n",
       "      <td>27</td>\n",
       "      <td>RAYMOND GUZMAN</td>\n",
       "      <td>9.6</td>\n",
       "      <td>BATTALION CHIEF, (FIRE DEPARTMENT)</td>\n",
       "      <td>112635</td>\n",
       "    </tr>\n",
       "    <tr>\n",
       "      <td>28</td>\n",
       "      <td>DENISE SCHMITT</td>\n",
       "      <td>10.3</td>\n",
       "      <td>DEPUTY CHIEF III (POLICE DEPARTMENT)</td>\n",
       "      <td>122391</td>\n",
       "    </tr>\n",
       "    <tr>\n",
       "      <td>29</td>\n",
       "      <td>MONICA FIELDS</td>\n",
       "      <td>10.5</td>\n",
       "      <td>CHIEF OF POLICE</td>\n",
       "      <td>121872</td>\n",
       "    </tr>\n",
       "  </tbody>\n",
       "</table>\n",
       "</div>"
      ],
      "text/plain": [
       "      EmployeeName  YearsExperience                              JobTitle  \\\n",
       "25    GREGORY SUHR              9.0                       CHIEF OF POLICE   \n",
       "26     JOHN HANLEY              9.5             CAPTAIN, FIRE SUPPRESSION   \n",
       "27  RAYMOND GUZMAN              9.6    BATTALION CHIEF, (FIRE DEPARTMENT)   \n",
       "28  DENISE SCHMITT             10.3  DEPUTY CHIEF III (POLICE DEPARTMENT)   \n",
       "29   MONICA FIELDS             10.5                       CHIEF OF POLICE   \n",
       "\n",
       "    Salary  \n",
       "25  105582  \n",
       "26  116969  \n",
       "27  112635  \n",
       "28  122391  \n",
       "29  121872  "
      ]
     },
     "execution_count": 18,
     "metadata": {},
     "output_type": "execute_result"
    }
   ],
   "source": [
    "df= pd.read_csv(r'C:\\Users\\ROHIT REDDY\\Desktop\\Salary_Data1.csv',usecols=['YearsExperience','JobTitle','Salary','EmployeeName'])\n",
    "df.head()\n",
    "df.tail()"
   ]
  },
  {
   "cell_type": "code",
   "execution_count": 20,
   "metadata": {},
   "outputs": [
    {
     "name": "stdout",
     "output_type": "stream",
     "text": [
      "          EmployeeName  YearsExperience  \\\n",
      "2       ALBERT PARDINI              1.5   \n",
      "0       NATHANIEL FORD              1.1   \n",
      "4      PATRICK GARDNER              2.2   \n",
      "3    CHRISTOPHER CHONG              2.0   \n",
      "1         GARY JIMENEZ              1.3   \n",
      "7        DAVID KUSHNER              3.2   \n",
      "11    PATRICIA JACKSON              4.0   \n",
      "5       DAVID SULLIVAN              2.9   \n",
      "12   EDWARD HARRINGTON              4.0   \n",
      "13         JOHN MARTIN              4.1   \n",
      "9   JOANNE HAYES-WHITE              3.7   \n",
      "6            ALSON LEE              3.0   \n",
      "14      DAVID FRANKLIN              4.5   \n",
      "10       ARTHUR KENNEY              3.9   \n",
      "8       MICHAEL MORRIS              3.2   \n",
      "16            AMY HART              5.1   \n",
      "15     RICHARD CORRIEA              4.9   \n",
      "18          MARTY ROSS              5.9   \n",
      "17      SEBASTIAN WONG              5.3   \n",
      "20          VENUS AZAR              6.8   \n",
      "19       ELLEN MOFFATT              6.0   \n",
      "21        JUDY MELINEK              7.1   \n",
      "22       GEORGE GARCIA              7.9   \n",
      "25        GREGORY SUHR              9.0   \n",
      "24     JOSEPH DRISCOLL              8.7   \n",
      "27      RAYMOND GUZMAN              9.6   \n",
      "23       VICTOR WYRSCH              8.2   \n",
      "26         JOHN HANLEY              9.5   \n",
      "29       MONICA FIELDS             10.5   \n",
      "28      DENISE SCHMITT             10.3   \n",
      "\n",
      "                                            JobTitle  Salary  \n",
      "2                    CAPTAIN III (POLICE DEPARTMENT)   37731  \n",
      "0     GENERAL MANAGER-METROPOLITAN TRANSIT AUTHORITY   39343  \n",
      "4       DEPUTY CHIEF OF DEPARTMENT,(FIRE DEPARTMENT)   39891  \n",
      "3               WIRE ROPE CABLE MAINTENANCE MECHANIC   43525  \n",
      "1                    CAPTAIN III (POLICE DEPARTMENT)   46205  \n",
      "7                     DEPUTY DIRECTOR OF INVESTMENTS   54445  \n",
      "11                   CAPTAIN III (POLICE DEPARTMENT)   55794  \n",
      "5                          ASSISTANT DEPUTY CHIEF II   56642  \n",
      "12                       EXECUTIVE CONTRACT EMPLOYEE   56957  \n",
      "13                                 DEPARTMENT HEAD V   57081  \n",
      "9             CHIEF OF DEPARTMENT, (FIRE DEPARTMENT)   57189  \n",
      "6                 BATTALION CHIEF, (FIRE DEPARTMENT)   60150  \n",
      "14                BATTALION CHIEF, (FIRE DEPARTMENT)   61111  \n",
      "10  ASSISTANT CHIEF OF DEPARTMENT, (FIRE DEPARTMENT)   63218  \n",
      "8                 BATTALION CHIEF, (FIRE DEPARTMENT)   64445  \n",
      "16                                 DEPARTMENT HEAD V   66029  \n",
      "15                COMMANDER III, (POLICE DEPARTMENT)   67938  \n",
      "18                BATTALION CHIEF, (FIRE DEPARTMENT)   81363  \n",
      "17             CAPTAIN, EMERGENCYCY MEDICAL SERVICES   83088  \n",
      "20                        ASSISTANT MEDICAL EXAMINER   91738  \n",
      "19                        ASSISTANT MEDICAL EXAMINER   93940  \n",
      "21                        ASSISTANT MEDICAL EXAMINER   98273  \n",
      "22                         CAPTAIN, FIRE SUPPRESSION  101302  \n",
      "25                                   CHIEF OF POLICE  105582  \n",
      "24                         CAPTAIN, FIRE SUPPRESSION  109431  \n",
      "27                BATTALION CHIEF, (FIRE DEPARTMENT)  112635  \n",
      "23                BATTALION CHIEF, (FIRE DEPARTMENT)  113812  \n",
      "26                         CAPTAIN, FIRE SUPPRESSION  116969  \n",
      "29                                   CHIEF OF POLICE  121872  \n",
      "28              DEPUTY CHIEF III (POLICE DEPARTMENT)  122391  \n",
      "       YearsExperience         Salary\n",
      "count        30.000000      30.000000\n",
      "mean          5.313333   76003.000000\n",
      "std           2.837888   27414.429785\n",
      "min           1.100000   37731.000000\n",
      "25%           3.200000   56720.750000\n",
      "50%           4.700000   65237.000000\n",
      "75%           7.700000  100544.750000\n",
      "max          10.500000  122391.000000\n"
     ]
    }
   ],
   "source": [
    "df1=df.sort_values(by=\"Salary\")\n",
    "print(df1)\n",
    "print(df.describe())"
   ]
  },
  {
   "cell_type": "code",
   "execution_count": 30,
   "metadata": {},
   "outputs": [
    {
     "data": {
      "text/plain": [
       "<matplotlib.axes._subplots.AxesSubplot at 0x1dd242ad308>"
      ]
     },
     "execution_count": 30,
     "metadata": {},
     "output_type": "execute_result"
    },
    {
     "data": {
      "image/png": "[encoded data removed]",
      "text/plain": [
       "<Figure size 432x288 with 1 Axes>"
      ]
     },
     "metadata": {
      "needs_background": "light"
     },
     "output_type": "display_data"
    }
   ],
   "source": [
    "boxplot = df.boxplot(column=['Salary'])\n",
    "boxplot"
   ]
  },
  {
   "cell_type": "code",
   "execution_count": 31,
   "metadata": {},
   "outputs": [
    {
     "data": {
      "text/plain": [
       "<matplotlib.axes._subplots.AxesSubplot at 0x1dd24330488>"
      ]
     },
     "execution_count": 31,
     "metadata": {},
     "output_type": "execute_result"
    },
    {
     "data": {
      "image/png": "[encoded data removed]",
      "text/plain": [
       "<Figure size 432x288 with 1 Axes>"
      ]
     },
     "metadata": {
      "needs_background": "light"
     },
     "output_type": "display_data"
    }
   ],
   "source": [
    "boxplot= df.boxplot(column=['YearsExperience'])\n",
    "boxplot"
   ]
  },
  {
   "cell_type": "code",
   "execution_count": 21,
   "metadata": {},
   "outputs": [
    {
     "data": {
      "text/plain": [
       "2    37731\n",
       "0    39343\n",
       "4    39891\n",
       "3    43525\n",
       "1    46205\n",
       "Name: Salary, dtype: int64"
      ]
     },
     "execution_count": 21,
     "metadata": {},
     "output_type": "execute_result"
    }
   ],
   "source": [
    "df2=df1['Salary']\n",
    "df2.head()"
   ]
  },
  {
   "cell_type": "code",
   "execution_count": 23,
   "metadata": {},
   "outputs": [
    {
     "data": {
      "text/html": [
       "<div>\n",
       "<style scoped>\n",
       "    .dataframe tbody tr th:only-of-type {\n",
       "        vertical-align: middle;\n",
       "    }\n",
       "\n",
       "    .dataframe tbody tr th {\n",
       "        vertical-align: top;\n",
       "    }\n",
       "\n",
       "    .dataframe thead th {\n",
       "        text-align: right;\n",
       "    }\n",
       "</style>\n",
       "<table border=\"1\" class=\"dataframe\">\n",
       "  <thead>\n",
       "    <tr style=\"text-align: right;\">\n",
       "      <th></th>\n",
       "      <th>EmployeeName</th>\n",
       "      <th>YearsExperience</th>\n",
       "      <th>Salary</th>\n",
       "    </tr>\n",
       "    <tr>\n",
       "      <th>JobTitle</th>\n",
       "      <th></th>\n",
       "      <th></th>\n",
       "      <th></th>\n",
       "    </tr>\n",
       "  </thead>\n",
       "  <tbody>\n",
       "    <tr>\n",
       "      <td>ASSISTANT CHIEF OF DEPARTMENT, (FIRE DEPARTMENT)</td>\n",
       "      <td>ARTHUR KENNEY</td>\n",
       "      <td>3.9</td>\n",
       "      <td>63218</td>\n",
       "    </tr>\n",
       "    <tr>\n",
       "      <td>ASSISTANT DEPUTY CHIEF II</td>\n",
       "      <td>DAVID SULLIVAN</td>\n",
       "      <td>2.9</td>\n",
       "      <td>56642</td>\n",
       "    </tr>\n",
       "    <tr>\n",
       "      <td>ASSISTANT MEDICAL EXAMINER</td>\n",
       "      <td>VENUS AZAR</td>\n",
       "      <td>7.1</td>\n",
       "      <td>98273</td>\n",
       "    </tr>\n",
       "    <tr>\n",
       "      <td>BATTALION CHIEF, (FIRE DEPARTMENT)</td>\n",
       "      <td>VICTOR WYRSCH</td>\n",
       "      <td>9.6</td>\n",
       "      <td>113812</td>\n",
       "    </tr>\n",
       "    <tr>\n",
       "      <td>CAPTAIN III (POLICE DEPARTMENT)</td>\n",
       "      <td>PATRICIA JACKSON</td>\n",
       "      <td>4.0</td>\n",
       "      <td>55794</td>\n",
       "    </tr>\n",
       "    <tr>\n",
       "      <td>CAPTAIN, EMERGENCYCY MEDICAL SERVICES</td>\n",
       "      <td>SEBASTIAN WONG</td>\n",
       "      <td>5.3</td>\n",
       "      <td>83088</td>\n",
       "    </tr>\n",
       "    <tr>\n",
       "      <td>CAPTAIN, FIRE SUPPRESSION</td>\n",
       "      <td>JOSEPH DRISCOLL</td>\n",
       "      <td>9.5</td>\n",
       "      <td>116969</td>\n",
       "    </tr>\n",
       "    <tr>\n",
       "      <td>CHIEF OF DEPARTMENT, (FIRE DEPARTMENT)</td>\n",
       "      <td>JOANNE HAYES-WHITE</td>\n",
       "      <td>3.7</td>\n",
       "      <td>57189</td>\n",
       "    </tr>\n",
       "    <tr>\n",
       "      <td>CHIEF OF POLICE</td>\n",
       "      <td>MONICA FIELDS</td>\n",
       "      <td>10.5</td>\n",
       "      <td>121872</td>\n",
       "    </tr>\n",
       "    <tr>\n",
       "      <td>COMMANDER III, (POLICE DEPARTMENT)</td>\n",
       "      <td>RICHARD CORRIEA</td>\n",
       "      <td>4.9</td>\n",
       "      <td>67938</td>\n",
       "    </tr>\n",
       "    <tr>\n",
       "      <td>DEPARTMENT HEAD V</td>\n",
       "      <td>JOHN MARTIN</td>\n",
       "      <td>5.1</td>\n",
       "      <td>66029</td>\n",
       "    </tr>\n",
       "    <tr>\n",
       "      <td>DEPUTY CHIEF III (POLICE DEPARTMENT)</td>\n",
       "      <td>DENISE SCHMITT</td>\n",
       "      <td>10.3</td>\n",
       "      <td>122391</td>\n",
       "    </tr>\n",
       "    <tr>\n",
       "      <td>DEPUTY CHIEF OF DEPARTMENT,(FIRE DEPARTMENT)</td>\n",
       "      <td>PATRICK GARDNER</td>\n",
       "      <td>2.2</td>\n",
       "      <td>39891</td>\n",
       "    </tr>\n",
       "    <tr>\n",
       "      <td>DEPUTY DIRECTOR OF INVESTMENTS</td>\n",
       "      <td>DAVID KUSHNER</td>\n",
       "      <td>3.2</td>\n",
       "      <td>54445</td>\n",
       "    </tr>\n",
       "    <tr>\n",
       "      <td>EXECUTIVE CONTRACT EMPLOYEE</td>\n",
       "      <td>EDWARD HARRINGTON</td>\n",
       "      <td>4.0</td>\n",
       "      <td>56957</td>\n",
       "    </tr>\n",
       "    <tr>\n",
       "      <td>GENERAL MANAGER-METROPOLITAN TRANSIT AUTHORITY</td>\n",
       "      <td>NATHANIEL FORD</td>\n",
       "      <td>1.1</td>\n",
       "      <td>39343</td>\n",
       "    </tr>\n",
       "    <tr>\n",
       "      <td>WIRE ROPE CABLE MAINTENANCE MECHANIC</td>\n",
       "      <td>CHRISTOPHER CHONG</td>\n",
       "      <td>2.0</td>\n",
       "      <td>43525</td>\n",
       "    </tr>\n",
       "  </tbody>\n",
       "</table>\n",
       "</div>"
      ],
      "text/plain": [
       "                                                        EmployeeName  \\\n",
       "JobTitle                                                               \n",
       "ASSISTANT CHIEF OF DEPARTMENT, (FIRE DEPARTMENT)       ARTHUR KENNEY   \n",
       "ASSISTANT DEPUTY CHIEF II                             DAVID SULLIVAN   \n",
       "ASSISTANT MEDICAL EXAMINER                                VENUS AZAR   \n",
       "BATTALION CHIEF, (FIRE DEPARTMENT)                     VICTOR WYRSCH   \n",
       "CAPTAIN III (POLICE DEPARTMENT)                     PATRICIA JACKSON   \n",
       "CAPTAIN, EMERGENCYCY MEDICAL SERVICES                 SEBASTIAN WONG   \n",
       "CAPTAIN, FIRE SUPPRESSION                            JOSEPH DRISCOLL   \n",
       "CHIEF OF DEPARTMENT, (FIRE DEPARTMENT)            JOANNE HAYES-WHITE   \n",
       "CHIEF OF POLICE                                        MONICA FIELDS   \n",
       "COMMANDER III, (POLICE DEPARTMENT)                   RICHARD CORRIEA   \n",
       "DEPARTMENT HEAD V                                        JOHN MARTIN   \n",
       "DEPUTY CHIEF III (POLICE DEPARTMENT)                  DENISE SCHMITT   \n",
       "DEPUTY CHIEF OF DEPARTMENT,(FIRE DEPARTMENT)         PATRICK GARDNER   \n",
       "DEPUTY DIRECTOR OF INVESTMENTS                         DAVID KUSHNER   \n",
       "EXECUTIVE CONTRACT EMPLOYEE                        EDWARD HARRINGTON   \n",
       "GENERAL MANAGER-METROPOLITAN TRANSIT AUTHORITY        NATHANIEL FORD   \n",
       "WIRE ROPE CABLE MAINTENANCE MECHANIC               CHRISTOPHER CHONG   \n",
       "\n",
       "                                                  YearsExperience  Salary  \n",
       "JobTitle                                                                   \n",
       "ASSISTANT CHIEF OF DEPARTMENT, (FIRE DEPARTMENT)              3.9   63218  \n",
       "ASSISTANT DEPUTY CHIEF II                                     2.9   56642  \n",
       "ASSISTANT MEDICAL EXAMINER                                    7.1   98273  \n",
       "BATTALION CHIEF, (FIRE DEPARTMENT)                            9.6  113812  \n",
       "CAPTAIN III (POLICE DEPARTMENT)                               4.0   55794  \n",
       "CAPTAIN, EMERGENCYCY MEDICAL SERVICES                         5.3   83088  \n",
       "CAPTAIN, FIRE SUPPRESSION                                     9.5  116969  \n",
       "CHIEF OF DEPARTMENT, (FIRE DEPARTMENT)                        3.7   57189  \n",
       "CHIEF OF POLICE                                              10.5  121872  \n",
       "COMMANDER III, (POLICE DEPARTMENT)                            4.9   67938  \n",
       "DEPARTMENT HEAD V                                             5.1   66029  \n",
       "DEPUTY CHIEF III (POLICE DEPARTMENT)                         10.3  122391  \n",
       "DEPUTY CHIEF OF DEPARTMENT,(FIRE DEPARTMENT)                  2.2   39891  \n",
       "DEPUTY DIRECTOR OF INVESTMENTS                                3.2   54445  \n",
       "EXECUTIVE CONTRACT EMPLOYEE                                   4.0   56957  \n",
       "GENERAL MANAGER-METROPOLITAN TRANSIT AUTHORITY                1.1   39343  \n",
       "WIRE ROPE CABLE MAINTENANCE MECHANIC                          2.0   43525  "
      ]
     },
     "execution_count": 23,
     "metadata": {},
     "output_type": "execute_result"
    }
   ],
   "source": [
    "df1=df.groupby('JobTitle').max()\n",
    "df1"
   ]
  },
  {
   "cell_type": "code",
   "execution_count": 24,
   "metadata": {},
   "outputs": [
    {
     "name": "stdout",
     "output_type": "stream",
     "text": [
      "['GENERAL MANAGER-METROPOLITAN TRANSIT AUTHORITY'\n",
      " 'CAPTAIN III (POLICE DEPARTMENT)' 'WIRE ROPE CABLE MAINTENANCE MECHANIC'\n",
      " 'DEPUTY CHIEF OF DEPARTMENT,(FIRE DEPARTMENT)'\n",
      " 'ASSISTANT DEPUTY CHIEF II' 'BATTALION CHIEF, (FIRE DEPARTMENT)'\n",
      " 'DEPUTY DIRECTOR OF INVESTMENTS' 'CHIEF OF DEPARTMENT, (FIRE DEPARTMENT)'\n",
      " 'ASSISTANT CHIEF OF DEPARTMENT, (FIRE DEPARTMENT)'\n",
      " 'EXECUTIVE CONTRACT EMPLOYEE' 'DEPARTMENT HEAD V'\n",
      " 'COMMANDER III, (POLICE DEPARTMENT)'\n",
      " 'CAPTAIN, EMERGENCYCY MEDICAL SERVICES' 'ASSISTANT MEDICAL EXAMINER'\n",
      " 'CAPTAIN, FIRE SUPPRESSION' 'CHIEF OF POLICE'\n",
      " 'DEPUTY CHIEF III (POLICE DEPARTMENT)']\n"
     ]
    }
   ],
   "source": [
    "df1= df['JobTitle'].unique()\n",
    "print(df1)"
   ]
  },
  {
   "cell_type": "code",
   "execution_count": 25,
   "metadata": {},
   "outputs": [
    {
     "data": {
      "image/png": "[encoded data removed]",
      "text/plain": [
       "<Figure size 432x288 with 1 Axes>"
      ]
     },
     "metadata": {
      "needs_background": "light"
     },
     "output_type": "display_data"
    }
   ],
   "source": [
    "x=df['JobTitle']\n",
    "y=df['Salary']\n",
    "plt.xticks(rotation=90)\n",
    "plt.bar(x,y)\n",
    "plt.ylabel('Salary')\n",
    "plt.xlabel('JobTitle')\n",
    "axes=plt.gca()\n",
    "axes.yaxis.grid()\n",
    "plt.title('Salary for different JobTitle')\n",
    "plt.show()"
   ]
  }
 ],
 "metadata": {
  "kernelspec": {
   "display_name": "Python 3",
   "language": "python",
   "name": "python3"
  },
  "language_info": {
   "codemirror_mode": {
    "name": "ipython",
    "version": 3
   },
   "file_extension": ".py",
   "mimetype": "text/x-python",
   "name": "python",
   "nbconvert_exporter": "python",
   "pygments_lexer": "ipython3",
   "version": "3.7.4"
  }
 },
 "nbformat": 4,
 "nbformat_minor": 2
}
