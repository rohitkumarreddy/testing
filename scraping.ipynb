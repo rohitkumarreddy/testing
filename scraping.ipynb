
    "import urllib.request\n",
    "from bs4 import BeautifulSoup\n",
    "import pandas as pd"

    "page_url=\"https://www.imdb.com/search/title/?count=100&groups=top_1000&sort=user_rating\"\n",
    "page = urllib.request.urlopen(page_url)\n",
    "soup=BeautifulSoup(page,'html.parser')\n",
    "parent_div=soup.find('div',attrs={'class':'lister-list'})\n",
    "next_sub_div=parent_div.findAll('div',attrs={'class':'lister-item mode-advanced'})"
 
 [
    "a=next_sub_div[1].find('div',attrs={'class':'lister-item-content'}).find('a').getText()\n",
    "b=next_sub_div[1].find('div',attrs={'class':'lister-item-content'}).find('h3').find('span',attrs={'class':'lister-item-year text-muted unbold'}).getText()\n",
    "c=next_sub_div[1].find('div',attrs={'class':'lister-item-content'}).find('div').find('div',attrs={'class':'inline-block ratings-imdb-rating'}).get('data-value')\n",
    "print(a)\n",
    "print(b)\n",
    "print(c)"
   ]

